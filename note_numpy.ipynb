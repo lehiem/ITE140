{
 "cells": [
  {
   "cell_type": "markdown",
   "metadata": {},
   "source": [
    "# NumPy Notebook\n"
   ]
  },
  {
   "cell_type": "markdown",
   "metadata": {},
   "source": [
    "### Numpy and Numpy Array\n",
    "Def: NumPy is the package for scientific computing in Python that does array-based calculations and linear algebra.\n",
    "\n",
    "A NumPy array is an array of data that are all the same type of data that can also be any number of dimensional (N-dimensional)."
   ]
  },
  {
   "cell_type": "code",
   "execution_count": 11,
   "metadata": {},
   "outputs": [],
   "source": [
    "#import numpy as np as a shorthand\n",
    "import numpy as np\n",
    "\n",
    "#python array \n",
    "array_python = [2,4,6,8]\n",
    "\n",
    "#array1 array is a one dimensional \n",
    "array1 = np.array([3, 333, 3333.])\n",
    "\n",
    "#array2 is a two dimensional array with the data type \n",
    "array2 = np.array([[2., 4., 6.],[123., 321., 213.]])"
   ]
  },
  {
   "cell_type": "markdown",
   "metadata": {},
   "source": [
    "## Data Type\n",
    "Array1 has multiple data types but an array must have the same data type so it is ultimity classified as data type float64 although it's\n",
    "mainily intergers to maintain the same data type for easier and faster calculations. \n",
    "\n",
    "There are diffrent names for data types in NumPy versus regular Python such as float64 (numpy) vs float (python) but if you even need to check the data type the code is:"
   ]
  },
  {
   "cell_type": "code",
   "execution_count": 12,
   "metadata": {},
   "outputs": [
    {
     "data": {
      "text/plain": [
       "dtype('float64')"
      ]
     },
     "execution_count": 12,
     "metadata": {},
     "output_type": "execute_result"
    }
   ],
   "source": [
    "#array name, .dtype\n",
    "array1.dtype"
   ]
  },
  {
   "cell_type": "markdown",
   "metadata": {},
   "source": [
    "Sometimes you need to change one elements data type specficialy, the following code would do that"
   ]
  },
  {
   "cell_type": "code",
   "execution_count": 13,
   "metadata": {},
   "outputs": [
    {
     "data": {
      "text/plain": [
       "3.0"
      ]
     },
     "execution_count": 13,
     "metadata": {},
     "output_type": "execute_result"
    }
   ],
   "source": [
    "#first write the data type you want the element to be, than the array name, than where the element is in the array\n",
    "float(array1[0])"
   ]
  },
  {
   "cell_type": "markdown",
   "metadata": {},
   "source": [
    "### NumPy's axis numbering system\n",
    "In two dimensional and beyond arrays there is an axis that represents the rows and columns of the array. Axis 0 represents the rows and Axis 1 represents the columns in a two dimensional array.\n",
    "\n",
    "\n",
    "In a one dimensional array the first and only axis is axis 0."
   ]
  },
  {
   "cell_type": "code",
   "execution_count": 14,
   "metadata": {},
   "outputs": [
    {
     "name": "stdout",
     "output_type": "stream",
     "text": [
      "[125. 325. 219.]\n",
      "[ 12. 657.]\n",
      "3669.0\n"
     ]
    }
   ],
   "source": [
    "# array2 is two dimensional which means there are two axies \n",
    "print(array2.sum(axis=0))\n",
    "print(array2.sum(axis=1))\n",
    "\n",
    "#array1 only has one axis because it is one dimensional\n",
    "print(array1.sum(axis=0))\n"
   ]
  },
  {
   "cell_type": "markdown",
   "metadata": {},
   "source": [
    "## Vectorization\n",
    "Def: Vectorization is an operation being performed in Numpy that applies to each element in an array\n",
    "\n",
    "\n",
    "Vectorization makes it easy and fast to update every element of an array in a simple way.\n",
    "\n",
    "\n",
    "Example:"
   ]
  },
  {
   "cell_type": "code",
   "execution_count": 15,
   "metadata": {},
   "outputs": [
    {
     "data": {
      "text/plain": [
       "array([[  6.,   8.,  10.],\n",
       "       [127., 325., 217.]])"
      ]
     },
     "execution_count": 15,
     "metadata": {},
     "output_type": "execute_result"
    }
   ],
   "source": [
    "#the name of the array, the change you are making to the array\n",
    "array2+4"
   ]
  },
  {
   "cell_type": "markdown",
   "metadata": {},
   "source": [
    "### Broadcasting\n",
    "If two arrays have different shapes and they are being used together NumPy try to combine them into a compatible shape for calculation, that is called broadcasting"
   ]
  },
  {
   "cell_type": "code",
   "execution_count": 16,
   "metadata": {},
   "outputs": [
    {
     "data": {
      "text/plain": [
       "array([[1.50000000e+00, 8.32500000e+01, 5.55500000e+02],\n",
       "       [2.43902439e-02, 1.03738318e+00, 1.56478873e+01]])"
      ]
     },
     "execution_count": 16,
     "metadata": {},
     "output_type": "execute_result"
    }
   ],
   "source": [
    "#array1 is one dimension but array 2 is two dimesions so the output is two dimesions\n",
    "array1/array2"
   ]
  },
  {
   "cell_type": "markdown",
   "metadata": {},
   "source": [
    "### ufunc or Universal Functions\n",
    "Universal function/ufunc work on every element in a NumPy array.\n",
    "\n",
    "\n",
    "There are several different ufunc's but they all do the same thing of applying a function onto all elements of an array."
   ]
  },
  {
   "cell_type": "code",
   "execution_count": 17,
   "metadata": {},
   "outputs": [
    {
     "data": {
      "text/plain": [
       "array([[1.        , 2.        , 2.5849625 ],\n",
       "       [6.94251451, 8.32642949, 7.73470962]])"
      ]
     },
     "execution_count": 17,
     "metadata": {},
     "output_type": "execute_result"
    }
   ],
   "source": [
    "#the ufunc here is log base 2 and that function is applied on all the elements of the array\n",
    "np.log2(array2)"
   ]
  },
  {
   "cell_type": "markdown",
   "metadata": {},
   "source": [
    "### How to access and modify values in an ndarray\n",
    "The formula to access and modify values in an array is: numpy_array[row_selection, column_selection]\n",
    "\n",
    "For one-dimensional arrays, this simplifies to numpy_array[selection] \n",
    "\n",
    "Uses a start index (included) and an end index (excluded) with a colon in between, as in start:end. \n",
    "\n",
    "By leaving away the start and end index, you are left with a colon, which therefore stands for all rows or all columns in a two-dimensional array."
   ]
  },
  {
   "cell_type": "code",
   "execution_count": 18,
   "metadata": {},
   "outputs": [
    {
     "name": "stdout",
     "output_type": "stream",
     "text": [
      "321.0\n",
      "3333.0\n",
      "[2. 4. 6.]\n"
     ]
    }
   ],
   "source": [
    "print(array2[1,1])\n",
    "\n",
    "print(array1[2])\n",
    "\n",
    "print(array2[0,:])"
   ]
  },
  {
   "cell_type": "markdown",
   "metadata": {},
   "source": [
    "### Copy vs View\n",
    "The main difference between a copy and a view of an array is that the copy is a new array, and the view is just a view of the original array.\n",
    "\n",
    "\n",
    "Any changes made to the copy will not affect the original array, and any changes made to the original array will not affect the copy.\n",
    "\n",
    "\n",
    "The view does not own the data and any changes made to the view will affect the original array, and any changes made to the original array will affect the view."
   ]
  },
  {
   "cell_type": "code",
   "execution_count": 19,
   "metadata": {},
   "outputs": [
    {
     "name": "stdout",
     "output_type": "stream",
     "text": [
      "[[  2.   4.]\n",
      " [123. 321.]]\n",
      "[[ 50.   4.]\n",
      " [123. 321.]]\n",
      "[[  2.   4.   6.]\n",
      " [123. 321. 213.]]\n"
     ]
    }
   ],
   "source": [
    "#this is an example of copy as the array doesn't update\n",
    "array2\n",
    "#making the copy\n",
    "subset_2 = array2[:, :2].copy()\n",
    "print(subset_2)\n",
    "#editing the copy\n",
    "subset_2[0, 0] = 50\n",
    "#printing the copy\n",
    "print(subset_2)\n",
    "#printing array with no change\n",
    "print(array2)"
   ]
  },
  {
   "cell_type": "code",
   "execution_count": 20,
   "metadata": {},
   "outputs": [
    {
     "name": "stdout",
     "output_type": "stream",
     "text": [
      "[[  2.   4.   6.]\n",
      " [123. 321. 213.]]\n",
      "[[  2.   4.]\n",
      " [123. 321.]]\n",
      "[[ 50.   4.   6.]\n",
      " [123. 321. 213.]]\n"
     ]
    }
   ],
   "source": [
    "#this is an example of view as the element updates in the array\n",
    "print(array2)\n",
    "#creating the slice of data we are using\n",
    "subset_1 = array2[:, :2]\n",
    "print(subset_1)\n",
    "#chaning the data\n",
    "subset_1[0, 0] = 50\n",
    "#printing the array with updated elements \n",
    "print(array2)\n"
   ]
  }
 ],
 "metadata": {
  "kernelspec": {
   "display_name": "Python 3",
   "language": "python",
   "name": "python3"
  },
  "language_info": {
   "codemirror_mode": {
    "name": "ipython",
    "version": 3
   },
   "file_extension": ".py",
   "mimetype": "text/x-python",
   "name": "python",
   "nbconvert_exporter": "python",
   "pygments_lexer": "ipython3",
   "version": "3.11.4"
  }
 },
 "nbformat": 4,
 "nbformat_minor": 2
}
