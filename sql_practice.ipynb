{
 "cells": [
  {
   "cell_type": "code",
   "execution_count": 6,
   "metadata": {},
   "outputs": [
    {
     "name": "stdout",
     "output_type": "stream",
     "text": [
      "Defaulting to user installation because normal site-packages is not writeable\n",
      "Requirement already satisfied: pandasql in /Users/998500/Library/Python/3.11/lib/python/site-packages (0.7.3)\n",
      "Requirement already satisfied: numpy in /Users/998500/Library/Python/3.11/lib/python/site-packages (from pandasql) (1.26.4)\n",
      "Requirement already satisfied: pandas in /Users/998500/Library/Python/3.11/lib/python/site-packages (from pandasql) (2.2.3)\n",
      "Requirement already satisfied: sqlalchemy in /Users/998500/Library/Python/3.11/lib/python/site-packages (from pandasql) (2.0.9)\n",
      "Requirement already satisfied: python-dateutil>=2.8.2 in /Users/998500/Library/Python/3.11/lib/python/site-packages (from pandas->pandasql) (2.8.2)\n",
      "Requirement already satisfied: pytz>=2020.1 in /Users/998500/Library/Python/3.11/lib/python/site-packages (from pandas->pandasql) (2023.3.post1)\n",
      "Requirement already satisfied: tzdata>=2022.7 in /Users/998500/Library/Python/3.11/lib/python/site-packages (from pandas->pandasql) (2023.4)\n",
      "Requirement already satisfied: typing-extensions>=4.2.0 in /Users/998500/Library/Python/3.11/lib/python/site-packages (from sqlalchemy->pandasql) (4.12.2)\n",
      "Requirement already satisfied: six>=1.5 in /Users/998500/Library/Python/3.11/lib/python/site-packages (from python-dateutil>=2.8.2->pandas->pandasql) (1.16.0)\n"
     ]
    },
    {
     "name": "stderr",
     "output_type": "stream",
     "text": [
      "\n",
      "\u001b[1m[\u001b[0m\u001b[34;49mnotice\u001b[0m\u001b[1;39;49m]\u001b[0m\u001b[39;49m A new release of pip is available: \u001b[0m\u001b[31;49m24.2\u001b[0m\u001b[39;49m -> \u001b[0m\u001b[32;49m24.3.1\u001b[0m\n",
      "\u001b[1m[\u001b[0m\u001b[34;49mnotice\u001b[0m\u001b[1;39;49m]\u001b[0m\u001b[39;49m To update, run: \u001b[0m\u001b[32;49mpip3 install --upgrade pip\u001b[0m\n"
     ]
    }
   ],
   "source": [
    "%%bash\n",
    "python3 -m pip install pandasql"
   ]
  },
  {
   "cell_type": "code",
   "execution_count": 7,
   "metadata": {},
   "outputs": [
    {
     "name": "stdout",
     "output_type": "stream",
     "text": [
      "Defaulting to user installation because normal site-packages is not writeable\n",
      "Requirement already satisfied: matplotlib in /Users/998500/Library/Python/3.11/lib/python/site-packages (3.8.2)\n",
      "Requirement already satisfied: contourpy>=1.0.1 in /Users/998500/Library/Python/3.11/lib/python/site-packages (from matplotlib) (1.2.0)\n",
      "Requirement already satisfied: cycler>=0.10 in /Users/998500/Library/Python/3.11/lib/python/site-packages (from matplotlib) (0.12.1)\n",
      "Requirement already satisfied: fonttools>=4.22.0 in /Users/998500/Library/Python/3.11/lib/python/site-packages (from matplotlib) (4.47.2)\n",
      "Requirement already satisfied: kiwisolver>=1.3.1 in /Users/998500/Library/Python/3.11/lib/python/site-packages (from matplotlib) (1.4.5)\n",
      "Requirement already satisfied: numpy<2,>=1.21 in /Users/998500/Library/Python/3.11/lib/python/site-packages (from matplotlib) (1.26.4)\n",
      "Requirement already satisfied: packaging>=20.0 in /Users/998500/Library/Python/3.11/lib/python/site-packages (from matplotlib) (23.2)\n",
      "Requirement already satisfied: pillow>=8 in /Users/998500/Library/Python/3.11/lib/python/site-packages (from matplotlib) (9.5.0)\n",
      "Requirement already satisfied: pyparsing>=2.3.1 in /Users/998500/Library/Python/3.11/lib/python/site-packages (from matplotlib) (3.1.1)\n",
      "Requirement already satisfied: python-dateutil>=2.7 in /Users/998500/Library/Python/3.11/lib/python/site-packages (from matplotlib) (2.8.2)\n",
      "Requirement already satisfied: six>=1.5 in /Users/998500/Library/Python/3.11/lib/python/site-packages (from python-dateutil>=2.7->matplotlib) (1.16.0)\n"
     ]
    },
    {
     "name": "stderr",
     "output_type": "stream",
     "text": [
      "\n",
      "\u001b[1m[\u001b[0m\u001b[34;49mnotice\u001b[0m\u001b[1;39;49m]\u001b[0m\u001b[39;49m A new release of pip is available: \u001b[0m\u001b[31;49m24.2\u001b[0m\u001b[39;49m -> \u001b[0m\u001b[32;49m24.3.1\u001b[0m\n",
      "\u001b[1m[\u001b[0m\u001b[34;49mnotice\u001b[0m\u001b[1;39;49m]\u001b[0m\u001b[39;49m To update, run: \u001b[0m\u001b[32;49mpip3 install --upgrade pip\u001b[0m\n"
     ]
    }
   ],
   "source": [
    "%%bash \n",
    "pip3 install matplotlib"
   ]
  },
  {
   "cell_type": "code",
   "execution_count": null,
   "metadata": {},
   "outputs": [],
   "source": []
  },
  {
   "cell_type": "code",
   "execution_count": 8,
   "metadata": {},
   "outputs": [],
   "source": [
    "import seaborn as sns\n",
    "import matplotlib.pyplot as plt\n",
    "\n",
    "import pandas as pd\n",
    "from pandasql import sqldf"
   ]
  },
  {
   "cell_type": "code",
   "execution_count": 9,
   "metadata": {},
   "outputs": [
    {
     "name": "stdout",
     "output_type": "stream",
     "text": [
      "       symbol     date  daily_change\n",
      "0         AAL  1/10/14        0.3000\n",
      "1        AAPL  1/10/14       -0.9843\n",
      "2         AAP  1/10/14        1.3600\n",
      "3        ABBV  1/10/14       -0.3700\n",
      "4         ABC  1/10/14       -0.1500\n",
      "...       ...      ...           ...\n",
      "497467    XYL   9/9/16       -1.9200\n",
      "497468    YUM   9/9/16       -1.4600\n",
      "497469    ZBH   9/9/16       -3.6800\n",
      "497470   ZION   9/9/16       -0.1200\n",
      "497471    ZTS   9/9/16       -0.8400\n",
      "\n",
      "[497472 rows x 3 columns]\n"
     ]
    }
   ],
   "source": [
    "\n",
    "stocks = pd.read_csv(\"sp500.csv\")\n",
    "\n",
    "\n",
    "#how much did the stock change from closer to open, how much did it increase/decrease, stock performance\n",
    "\n",
    "print(sqldf('''SELECT symbol, date, close-open as daily_change FROM stocks\n",
    "                ORDER BY date'''))\n",
    "\n",
    "\n",
    "\n"
   ]
  },
  {
   "cell_type": "code",
   "execution_count": 10,
   "metadata": {},
   "outputs": [
    {
     "name": "stdout",
     "output_type": "stream",
     "text": [
      "   symbol    date    open      high       low   close   volume\n",
      "0     AAL  1/2/14   25.07   25.8200   25.0600   25.36  8998943\n",
      "1     ABT  1/2/14   38.09   38.4000   38.0000   38.23  4967472\n",
      "2    ADBE  1/2/14   59.06   59.5300   58.9400   59.29  2746370\n",
      "3     AGN  1/2/14  167.33  170.7100  166.5937  168.05  1268722\n",
      "4     AIV  1/2/14   25.90   26.1400   25.6600   25.91   844901\n",
      "..    ...     ...     ...       ...       ...     ...      ...\n",
      "87   VRSN  1/2/14   59.74   60.1600   59.4100   60.02  1871867\n",
      "88    WMT  1/2/14   78.72   79.4700   78.5000   78.91  6911859\n",
      "89   WYNN  1/2/14  194.14  199.8800  193.1200  197.94  3056065\n",
      "90    WYN  1/2/14   73.39   73.8700   72.9800   73.52  1284942\n",
      "91   XRAY  1/2/14   47.94   48.3075   47.7821   47.96  1025448\n",
      "\n",
      "[92 rows x 7 columns]\n"
     ]
    }
   ],
   "source": [
    "# on 1/2/12 all the stocks where there was profit\n",
    "#AND\n",
    "print(sqldf('''SELECT * FROM stocks\n",
    "                WHERE date = '1/2/14' \n",
    "                AND close-open > 0'''))"
   ]
  },
  {
   "cell_type": "code",
   "execution_count": 11,
   "metadata": {},
   "outputs": [
    {
     "name": "stdout",
     "output_type": "stream",
     "text": [
      "    symbol     date  close   open  daily_change\n",
      "0      AAL  1/10/14  29.35  29.05          0.30\n",
      "1      AAL  1/11/16  41.08  40.56          0.52\n",
      "2      AAL  1/11/17  48.64  49.29         -0.65\n",
      "3      AAL  1/12/16  42.00  41.15          0.85\n",
      "4      AAL  1/12/17  48.10  48.67         -0.57\n",
      "..     ...      ...    ...    ...           ...\n",
      "817    AAL   9/8/16  39.35  38.68          0.67\n",
      "818    AAL   9/8/17  43.60  43.81         -0.21\n",
      "819    AAL   9/9/14  37.96  37.63          0.33\n",
      "820    AAL   9/9/15  41.00  41.15         -0.15\n",
      "821    AAL   9/9/16  38.49  39.00         -0.51\n",
      "\n",
      "[822 rows x 5 columns]\n"
     ]
    }
   ],
   "source": [
    "# all the AAL stock that has the average stock change daily\n",
    "#between\n",
    "print(sqldf('''SELECT symbol, date, close, open, close-open as daily_change \n",
    "                FROM stocks\n",
    "                WHERE symbol = 'AAL'\n",
    "                AND daily_change BETWEEN -1 AND 1\n",
    "                ORDER BY date'''))"
   ]
  },
  {
   "cell_type": "code",
   "execution_count": 12,
   "metadata": {},
   "outputs": [
    {
     "name": "stdout",
     "output_type": "stream",
     "text": [
      "   COUNT(DISTINCT date)\n",
      "0                  1007\n"
     ]
    }
   ],
   "source": [
    "#amount of days the stock market was recorded for in the data set\n",
    "# count & distinct\n",
    "print(sqldf('''SELECT COUNT(DISTINCT date) \n",
    "            FROM stocks '''))"
   ]
  },
  {
   "cell_type": "code",
   "execution_count": 13,
   "metadata": {},
   "outputs": [
    {
     "name": "stdout",
     "output_type": "stream",
     "text": [
      "  symbol\n",
      "0    AIZ\n",
      "1   AMZN\n",
      "2    AZO\n",
      "3    IVZ\n",
      "4   MDLZ\n",
      "5    STZ\n",
      "6     VZ\n",
      "7    ZBH\n",
      "8   ZION\n",
      "9    ZTS\n"
     ]
    }
   ],
   "source": [
    "#symbols that have the letter Z in it \n",
    "print(sqldf('''SELECT DISTINCT (symbol) FROM stocks\n",
    "                WHERE symbol LIKE '%Z%' '''))"
   ]
  },
  {
   "cell_type": "code",
   "execution_count": 14,
   "metadata": {},
   "outputs": [
    {
     "name": "stdout",
     "output_type": "stream",
     "text": [
      "    singleCompany  numRecords\n",
      "0               A        1007\n",
      "1             AAL        1007\n",
      "2             AAP        1007\n",
      "3            AAPL        1007\n",
      "4            ABBV        1007\n",
      "..            ...         ...\n",
      "474           XYL        1007\n",
      "475           YUM        1007\n",
      "476           ZBH        1007\n",
      "477          ZION        1007\n",
      "478           ZTS        1007\n",
      "\n",
      "[479 rows x 2 columns]\n"
     ]
    }
   ],
   "source": [
    "# showing the companys that have all the dates (some companies dont have all the dates)\n",
    "# GROUP BY\n",
    "print(sqldf('''SELECT DISTINCT (symbol) as singleCompany, COUNT(*) as numRecords FROM stocks\n",
    "                GROUP BY singleCompany\n",
    "                HAVING numRecords >= 1007'''))"
   ]
  }
 ],
 "metadata": {
  "kernelspec": {
   "display_name": "Python 3",
   "language": "python",
   "name": "python3"
  },
  "language_info": {
   "codemirror_mode": {
    "name": "ipython",
    "version": 3
   },
   "file_extension": ".py",
   "mimetype": "text/x-python",
   "name": "python",
   "nbconvert_exporter": "python",
   "pygments_lexer": "ipython3",
   "version": "3.11.4"
  }
 },
 "nbformat": 4,
 "nbformat_minor": 2
}
