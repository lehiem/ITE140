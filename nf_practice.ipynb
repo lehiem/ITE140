{
 "cells": [
  {
   "cell_type": "markdown",
   "metadata": {},
   "source": [
    "# Normal Form Database"
   ]
  },
  {
   "cell_type": "markdown",
   "metadata": {},
   "source": [
    "### Original Spreadsheet Exerpt"
   ]
  },
  {
   "cell_type": "markdown",
   "metadata": {},
   "source": [
    "| Project ID | Client Name | Contact Info       | Project Date | Services                       | Plants Used         | \n",
    "| ---------- | ----------- | ------------------ | ------------ | ------------------------------ | ------------------- | \n",
    "| P1001      | Sarah Green | sarah@gmail.com    | 2024-05-01   | Lawn Mowing, Hedge Trimming    | Roses, Tulips       | \n",
    "| P1002      | Bob Brown   | (555) 234-5678     | 05/02/2024   | Tree Planting                  | Oak                 | \n",
    "| P1003      | Alice Blue  | alice.blue@xyz.com | May 3, 2024  | Flower Bed Design, Weeding     | Daisies, Sunflowers | \n",
    "| P1004      | Tom White   | tomwhite@abc.net   | 2024/05/04   | Lawn Mowing                    |                     | \n",
    "| P1005      | Sarah Green | sarah@gmail.com    | 05-05-2024   | Hedge Trimming, Garden Cleanup | Lavender            | \n",
    "| P1006      | Emma Violet | 555-678-1234       | 2024-05-06   | Tree Pruning, Lawn Mowing      | Maple, Ferns        |"
   ]
  },
  {
   "cell_type": "markdown",
   "metadata": {},
   "source": [
    "# Normal Form 1"
   ]
  },
  {
   "cell_type": "markdown",
   "metadata": {},
   "source": [
    "### Repeating groups are not permitted\n",
    "\n",
    "Services and Plants Used are both repeating groups. To fix the problem, making the database insert Services and Plants Used separately every line will make sure there are no repeating groups. The Contact Info wasn't a repeating group but it had different types of information in one column which is not permitted.\n"
   ]
  },
  {
   "cell_type": "markdown",
   "metadata": {},
   "source": [
    "| Project ID | Client Name   | Email               | Phone Number   | Project Date | Services         | Plants Used   |\n",
    "|------------|---------------|---------------------|----------------|--------------|------------------|---------------|\n",
    "| P1001      | Sarah Green   | sarah@gmail.com     |                | 2024-05-01   | Lawn mowing      |               |\n",
    "| P1001      | Sarah Green   | sarah@gmail.com     |                | 2024-05-01   | Hedge trimming   | Roses         |\n",
    "| P1001      | Sarah Green   | sarah@gmail.com     |                | 2024-05-01   | Hedge trimming   | Tulips        |\n",
    "| P1002      | Bob Brown     |                     | 555-234-5678   | 2024-05-02   | Tree planting    | Oak           |\n",
    "| P1003      | Alice Brown   | alice.blue@xyz.com  |                | 2024-05-03   | Flower bed design| Daisies       |\n",
    "| P1003      | Alice Brown   | alice.blue@xyz.com  |                | 2024-05-03   | Weeding          | Sunflowers    |\n",
    "| P1004      | Tom White     | tomwhite@abc.net    |                | 2024-05-04   | Lawn mowing      |               |\n",
    "| P1005      | Sarah Green   | sarah@gmail.com     |                | 2024-05-05   | Garden cleanup   |               |\n",
    "| P1005      | Sarah Green   | sarah@gmail.com     |                | 2024-05-05   | Hedge trimming   | Lavender      |\n",
    "| P1006      | Emma Violet   |                     | 555-678-1234   | 2024-05-06   | Tree pruning     | Maple         |\n",
    "| P1006      | Emma Violet   |                     | 555-678-1234   | 2024-05-06   | Tree pruning     | Ferns         |\n",
    "| P1006      | Emma Violet   |                     | 555-678-1234   | 2024-05-06   | Lawn mowing      |               |\n",
    "\n"
   ]
  },
  {
   "cell_type": "markdown",
   "metadata": {},
   "source": [
    "### Mixing data types within the same column is not permitted \n",
    "\n",
    "#### Datatype\n",
    "- Project ID: string \n",
    "- Client Name: string \n",
    "- Email: string\n",
    "- Phone Number: string \n",
    "- Project Date: date\n",
    "- Services: string \n",
    "- Plant Used: string "
   ]
  },
  {
   "cell_type": "markdown",
   "metadata": {},
   "source": [
    "### Using row order to convey information is not permitted\n",
    "The order of the information doesn't mean anything in this set."
   ]
  },
  {
   "cell_type": "markdown",
   "metadata": {},
   "source": [
    "#### Having a table without a primary key is not permitted \n",
    "The PK of the table is the Service ID, the reason why there needed to be a diffrent PK is because the PK would have been the Project ID, Service, and Plants Used but Plant Used could be null and therefore it couldn't be a part of the PK. "
   ]
  },
  {
   "cell_type": "markdown",
   "metadata": {},
   "source": [
    "| Service ID | Project ID | Client Name   | Email               | Phone Number   | Project Date | Services         | Plants Used   |\n",
    "|------------|------------|---------------|---------------------|----------------|--------------|------------------|---------------|\n",
    "| 1          | P1001      | Sarah Green   | sarah@gmail.com     |                | 2024-05-01   | Lawn mowing      |               |\n",
    "| 2          | P1001      | Sarah Green   | sarah@gmail.com     |                | 2024-05-01   | Hedge trimming   | Roses         |\n",
    "| 3          | P1001      | Sarah Green   | sarah@gmail.com     |                | 2024-05-01   | Hedge trimming   | Tulips        |\n",
    "| 4          | P1002      | Bob Brown     |                     | 555-234-5678   | 2024-05-02   | Tree planting    | Oak           |\n",
    "| 5          | P1003      | Alice Brown   | alice.blue@xyz.com  |                | 2024-05-03   | Flower bed design| Daisies       |\n",
    "| 6          | P1003      | Alice Brown   | alice.blue@xyz.com  |                | 2024-05-03   | Weeding          | Sunflowers    |\n",
    "| 7          | P1004      | Tom White     | tomwhite@abc.net    |                | 2024-05-04   | Lawn mowing      |               |\n",
    "| 8          | P1005      | Sarah Green   | sarah@gmail.com     |                | 2024-05-05   | Garden cleanup   |               |\n",
    "| 9          | P1005      | Sarah Green   | sarah@gmail.com     |                | 2024-05-05   | Hedge trimming   | Lavender      |\n",
    "| 10         | P1006      | Emma Violet   |                     | 555-678-1234   | 2024-05-06   | Tree pruning     | Maple         |\n",
    "| 11         | P1006      | Emma Violet   |                     | 555-678-1234   | 2024-05-06   | Tree pruning     | Ferns         |\n",
    "| 12         | P1006      | Emma Violet   |                     | 555-678-1234   | 2024-05-06   | Lawn mowing      |               |\n"
   ]
  },
  {
   "cell_type": "markdown",
   "metadata": {},
   "source": [
    "#### Normal Form 2\n",
    "There can't be partical dependence because the PK is a single column.\n"
   ]
  },
  {
   "cell_type": "markdown",
   "metadata": {},
   "source": [
    "#### Normal Form 3\n",
    "There are some transative dependence in this set. \n",
    "- The Project ID can tell you Client Name, Email/Phone Number, Project Date. \n",
    "- The Client Name can tell me the Email/Phone Number (vise versa)"
   ]
  },
  {
   "cell_type": "markdown",
   "metadata": {},
   "source": [
    "To fix the problem with Client Name and Email/Phone Number I would just split it into it's own table. I would call it Customer Information."
   ]
  },
  {
   "cell_type": "markdown",
   "metadata": {},
   "source": [
    "| Client Name   | Email               | Phone Number   |\n",
    "|---------------|---------------------|----------------|\n",
    "| Sarah Green   | sarah@gmail.com     |                |\n",
    "| Bob Brown     |                     | 555-234-5678   |\n",
    "| Alice Brown   | alice.blue@xyz.com  |                |\n",
    "| Tom White     | tomwhite@abc.net    |                |\n",
    "| Emma Violet   |                     | 555-678-1234   |\n"
   ]
  },
  {
   "cell_type": "markdown",
   "metadata": {},
   "source": [
    "To fix the problem with Project ID and Project Date is spliting up the set into a new table which I might call Projects."
   ]
  },
  {
   "cell_type": "markdown",
   "metadata": {},
   "source": [
    "| Project ID | Project Date  |\n",
    "|------------|---------------|\n",
    "| P1001      | 2024-05-01    |\n",
    "| P1002      | 2024-05-02    |\n",
    "| P1003      | 2024-05-03    |\n",
    "| P1004      | 2024-05-04    |\n",
    "| P1005      | 2024-05-05    |\n",
    "| P1006      | 2024-05-06    |\n"
   ]
  },
  {
   "cell_type": "markdown",
   "metadata": {},
   "source": [
    "Now the only thing left is the table with Service ID, Project ID, Client Name, Services, and Plants Used. This will be the main table and if there is anything that needs to be looked up it will be in the other tables.\n"
   ]
  },
  {
   "cell_type": "markdown",
   "metadata": {},
   "source": [
    "\n",
    "| Service ID | Project ID | Client Name   | Services           | Plants Used   |\n",
    "|------------|------------|---------------|--------------------|---------------|\n",
    "| 1          | P1001      | Sarah Green   | Lawn mowing        |               |\n",
    "| 2          | P1001      | Sarah Green   | Hedge trimming     | Roses         |\n",
    "| 3          | P1001      | Sarah Green   | Hedge trimming     | Tulips        |\n",
    "| 4          | P1002      | Bob Brown     | Tree planting      | Oak           |\n",
    "| 5          | P1003      | Alice Brown   | Flower bed design  | Daisies       |\n",
    "| 6          | P1003      | Alice Brown   | Weeding            | Sunflowers    |\n",
    "| 7          | P1004      | Tom White     | Lawn mowing        |               |\n",
    "| 8          | P1005      | Sarah Green   | Garden cleanup     |               |\n",
    "| 9          | P1005      | Sarah Green   | Hedge trimming     | Lavender      |\n",
    "| 10         | P1006      | Emma Violet   | Tree pruning       | Maple         |\n",
    "| 11         | P1006      | Emma Violet   | Tree pruning       | Ferns         |\n",
    "| 12         | P1006      | Emma Violet   | Lawn mowing        |               |\n",
    "\n",
    "\n"
   ]
  }
 ],
 "metadata": {
  "language_info": {
   "name": "python"
  }
 },
 "nbformat": 4,
 "nbformat_minor": 2
}
